{
 "cells": [
  {
   "cell_type": "markdown",
   "id": "acc67eae",
   "metadata": {},
   "source": [
    "# 3.4 내 여자친구 최애 쿠션 찾아 주기"
   ]
  },
  {
   "cell_type": "code",
   "execution_count": 9,
   "id": "dc2dd3d9",
   "metadata": {},
   "outputs": [
    {
     "name": "stdout",
     "output_type": "stream",
     "text": [
      "제품 기본 정보 데이터 수: 975\n"
     ]
    }
   ],
   "source": [
    "import re # 정규 표현식\n",
    "\n",
    "import pandas as pd \n",
    "import numpy as np\n",
    "import os\n",
    "from kiwipiepy import Kiwi # 형태소 분석\n",
    "from collections import Counter # 다빈도 단어 분석\n",
    "import warnings\n",
    "warnings.filterwarnings(\"ignore\")\n",
    "from ast import literal_eval\n",
    "import matplotlib.pyplot as plt\n",
    "%matplotlib inline\n",
    "\n",
    "plt.rc('font', family='Malgun Gothic')\n",
    "import matplotlib_inline.backend_inline\n",
    "matplotlib_inline.backend_inline.set_matplotlib_formats('retina')\n",
    "\n",
    "import seaborn as sns\n",
    "\n",
    "import calendar\n",
    "\n",
    "from dateutil.parser import parse\n",
    "\n",
    "from collections import Counter\n",
    "from konlpy.tag import Komoran, Okt, Twitter\n",
    "from pprint import pprint\n",
    "\n",
    "basic_info_path = './data/makeup_basic_info/'\n",
    "\n",
    "basic_info_files = os.listdir(basic_info_path)\n",
    "print(\"제품 기본 정보 데이터 수:\", len(basic_info_files))"
   ]
  },
  {
   "cell_type": "code",
   "execution_count": 2,
   "id": "f338bf02",
   "metadata": {},
   "outputs": [
    {
     "data": {
      "text/html": [
       "<div>\n",
       "<style scoped>\n",
       "    .dataframe tbody tr th:only-of-type {\n",
       "        vertical-align: middle;\n",
       "    }\n",
       "\n",
       "    .dataframe tbody tr th {\n",
       "        vertical-align: top;\n",
       "    }\n",
       "\n",
       "    .dataframe thead th {\n",
       "        text-align: right;\n",
       "    }\n",
       "</style>\n",
       "<table border=\"1\" class=\"dataframe\">\n",
       "  <thead>\n",
       "    <tr style=\"text-align: right;\">\n",
       "      <th></th>\n",
       "      <th>name</th>\n",
       "      <th>tag</th>\n",
       "      <th>likes</th>\n",
       "      <th>num_review</th>\n",
       "      <th>num_photo</th>\n",
       "      <th>url</th>\n",
       "      <th>sale_day</th>\n",
       "    </tr>\n",
       "  </thead>\n",
       "  <tbody>\n",
       "    <tr>\n",
       "      <th>0</th>\n",
       "      <td>0번_제품</td>\n",
       "      <td>['#촉촉한수분감', '#촉촉한사용감', '#윤기커버', '#부드러운사용감', '#...</td>\n",
       "      <td>찜4,203</td>\n",
       "      <td>50</td>\n",
       "      <td>(20건)</td>\n",
       "      <td>https://cr.shopping.naver.com/adcr.nhn?x=hgdmo...</td>\n",
       "      <td>등록일 2022.01.</td>\n",
       "    </tr>\n",
       "    <tr>\n",
       "      <th>1</th>\n",
       "      <td>100번_제품</td>\n",
       "      <td>['#보송보송한메이크업', '#부드러운피부', '#인생템', '#헤라블랙쿠션', '...</td>\n",
       "      <td>찜62</td>\n",
       "      <td>1</td>\n",
       "      <td>(1건)</td>\n",
       "      <td>https://cr.shopping.naver.com/adcr.nhn?x=DToeQ...</td>\n",
       "      <td>등록일 2022.05.</td>\n",
       "    </tr>\n",
       "  </tbody>\n",
       "</table>\n",
       "</div>"
      ],
      "text/plain": [
       "      name                                                tag   likes  \\\n",
       "0    0번_제품  ['#촉촉한수분감', '#촉촉한사용감', '#윤기커버', '#부드러운사용감', '#...  찜4,203   \n",
       "1  100번_제품  ['#보송보송한메이크업', '#부드러운피부', '#인생템', '#헤라블랙쿠션', '...     찜62   \n",
       "\n",
       "  num_review num_photo                                                url  \\\n",
       "0         50     (20건)  https://cr.shopping.naver.com/adcr.nhn?x=hgdmo...   \n",
       "1          1      (1건)  https://cr.shopping.naver.com/adcr.nhn?x=DToeQ...   \n",
       "\n",
       "       sale_day  \n",
       "0  등록일 2022.01.  \n",
       "1  등록일 2022.05.  "
      ]
     },
     "execution_count": 2,
     "metadata": {},
     "output_type": "execute_result"
    }
   ],
   "source": [
    "pattern = re.compile(r'^\\d+_info\\.xlsx$')\n",
    "basic_info_files = [file for file in os.listdir(basic_info_path) if pattern.match(file)]\n",
    "df_bsc_inf_tmp = [pd.read_excel(basic_info_path+file) for file in basic_info_files]\n",
    "df_bsc = pd.concat(df_bsc_inf_tmp)\n",
    "df_bsc.reset_index(drop=True, inplace=True)\n",
    "df_bsc.head(2)"
   ]
  },
  {
   "cell_type": "markdown",
   "id": "bda136b1",
   "metadata": {},
   "source": [
    "## 3.4.2 제품 기본 정보 데이터 전처리"
   ]
  },
  {
   "cell_type": "code",
   "execution_count": 3,
   "id": "e7c72c8a",
   "metadata": {},
   "outputs": [],
   "source": [
    "#df_bsc.to_excel(basic_info_path+'basic_info.xlsx', index=False)\n",
    "df_bsc = pd.read_excel(basic_info_path+'basic_info.xlsx')"
   ]
  },
  {
   "cell_type": "code",
   "execution_count": 4,
   "id": "d5185653",
   "metadata": {},
   "outputs": [
    {
     "name": "stdout",
     "output_type": "stream",
     "text": [
      "찜한 수 전처리 결과 예시: 4203\n",
      "리뷰 수 전처리 결과 예시: 1221\n",
      "포토 리뷰 수 전처리 결과 예시: 173\n"
     ]
    }
   ],
   "source": [
    "df_bsc.rename(columns={\"name\":\"제품기호\", \"sale_day\":\"dates\", \"tag\":\"HashTag\"}, inplace=True)\n",
    "\n",
    "def get_digit_only(text):\n",
    "    \"\"\"숫자만 추출한다.\"\"\"\n",
    "    if text != '없음':\n",
    "        tmp = re.compile('[0-9]+').findall(str(text))\n",
    "\n",
    "        result = ''.join(tmp)\n",
    "\n",
    "        return int(result)\n",
    "    else:\n",
    "        return 0\n",
    "    \n",
    "print(\"찜한 수 전처리 결과 예시:\", get_digit_only(text='찜4,203'))\n",
    "print(\"리뷰 수 전처리 결과 예시:\", get_digit_only(text='1,221'))\n",
    "print(\"포토 리뷰 수 전처리 결과 예시:\", get_digit_only(text='(173건)')) "
   ]
  },
  {
   "cell_type": "code",
   "execution_count": 5,
   "id": "a2b0b77f",
   "metadata": {},
   "outputs": [],
   "source": [
    "df_bsc['likes'] = df_bsc['likes'].astype('str')\n",
    "df_bsc['num_review'] = df_bsc['num_review'].astype('str')\n",
    "df_bsc['num_photo'] = df_bsc['num_photo'].astype('str')\n",
    "\n",
    "df_bsc['likes'] = df_bsc['likes'].apply(lambda x:get_digit_only(x))\n",
    "df_bsc['num_review'] = df_bsc['num_review'].apply(lambda x:get_digit_only(x))\n",
    "df_bsc['num_photo'] = df_bsc['num_photo'].apply(lambda x: get_digit_only(x))\n"
   ]
  },
  {
   "cell_type": "code",
   "execution_count": 6,
   "id": "aada1512",
   "metadata": {},
   "outputs": [
    {
     "data": {
      "text/html": [
       "<div>\n",
       "<style scoped>\n",
       "    .dataframe tbody tr th:only-of-type {\n",
       "        vertical-align: middle;\n",
       "    }\n",
       "\n",
       "    .dataframe tbody tr th {\n",
       "        vertical-align: top;\n",
       "    }\n",
       "\n",
       "    .dataframe thead th {\n",
       "        text-align: right;\n",
       "    }\n",
       "</style>\n",
       "<table border=\"1\" class=\"dataframe\">\n",
       "  <thead>\n",
       "    <tr style=\"text-align: right;\">\n",
       "      <th></th>\n",
       "      <th>제품기호</th>\n",
       "      <th>HashTag</th>\n",
       "      <th>likes</th>\n",
       "      <th>num_review</th>\n",
       "      <th>num_photo</th>\n",
       "      <th>url</th>\n",
       "      <th>dates</th>\n",
       "      <th>year</th>\n",
       "      <th>month</th>\n",
       "    </tr>\n",
       "  </thead>\n",
       "  <tbody>\n",
       "    <tr>\n",
       "      <th>0</th>\n",
       "      <td>0번_제품</td>\n",
       "      <td>['#촉촉한수분감', '#촉촉한사용감', '#윤기커버', '#부드러운사용감', '#...</td>\n",
       "      <td>4203</td>\n",
       "      <td>50</td>\n",
       "      <td>20</td>\n",
       "      <td>https://cr.shopping.naver.com/adcr.nhn?x=hgdmo...</td>\n",
       "      <td>2022.01.</td>\n",
       "      <td>2022</td>\n",
       "      <td>01</td>\n",
       "    </tr>\n",
       "    <tr>\n",
       "      <th>1</th>\n",
       "      <td>100번_제품</td>\n",
       "      <td>['#보송보송한메이크업', '#부드러운피부', '#인생템', '#헤라블랙쿠션', '...</td>\n",
       "      <td>62</td>\n",
       "      <td>1</td>\n",
       "      <td>1</td>\n",
       "      <td>https://cr.shopping.naver.com/adcr.nhn?x=DToeQ...</td>\n",
       "      <td>2022.05.</td>\n",
       "      <td>2022</td>\n",
       "      <td>05</td>\n",
       "    </tr>\n",
       "  </tbody>\n",
       "</table>\n",
       "</div>"
      ],
      "text/plain": [
       "      제품기호                                            HashTag  likes  \\\n",
       "0    0번_제품  ['#촉촉한수분감', '#촉촉한사용감', '#윤기커버', '#부드러운사용감', '#...   4203   \n",
       "1  100번_제품  ['#보송보송한메이크업', '#부드러운피부', '#인생템', '#헤라블랙쿠션', '...     62   \n",
       "\n",
       "   num_review  num_photo                                                url  \\\n",
       "0          50         20  https://cr.shopping.naver.com/adcr.nhn?x=hgdmo...   \n",
       "1           1          1  https://cr.shopping.naver.com/adcr.nhn?x=DToeQ...   \n",
       "\n",
       "       dates   year month  \n",
       "0   2022.01.   2022    01  \n",
       "1   2022.05.   2022    05  "
      ]
     },
     "execution_count": 6,
     "metadata": {},
     "output_type": "execute_result"
    }
   ],
   "source": [
    "df_bsc['dates'] = df_bsc['dates'].apply(lambda x:x.replace('등록일', ''))\n",
    "df_bsc['year'] = df_bsc['dates'].apply(lambda x:x[:5])\n",
    "df_bsc['month'] = df_bsc['dates'].apply(lambda x: x[-4:-1].replace('.',''))\n",
    "df_bsc.head(2)"
   ]
  },
  {
   "cell_type": "code",
   "execution_count": 7,
   "id": "24694a4c",
   "metadata": {},
   "outputs": [
    {
     "data": {
      "text/plain": [
       "Text(0, 0.5, '등록수')"
      ]
     },
     "execution_count": 7,
     "metadata": {},
     "output_type": "execute_result"
    },
    {
     "data": {
      "image/png": "[encoded data removed]",
      "text/plain": [
       "<Figure size 640x480 with 1 Axes>"
      ]
     },
     "metadata": {
      "image/png": {
       "height": 454,
       "width": 568
      }
     },
     "output_type": "display_data"
    }
   ],
   "source": [
    "x = df_bsc['month'].value_counts().sort_index().index\n",
    "y = df_bsc['month'].value_counts().sort_index().values\n",
    "\n",
    "plt.title('메이크업 쿠션 제품 월별 등록 현황')\n",
    "plt.bar(x, y)\n",
    "plt.xlabel('월')\n",
    "plt.ylabel('등록수')"
   ]
  },
  {
   "cell_type": "markdown",
   "id": "50274895",
   "metadata": {},
   "source": [
    "### 해시태크 전처리"
   ]
  },
  {
   "cell_type": "code",
   "execution_count": 8,
   "id": "671a3f60",
   "metadata": {},
   "outputs": [
    {
     "data": {
      "text/plain": [
       "\"['#촉촉한수분감', '#촉촉한사용감', '#윤기커버', '#부드러운사용감', '#생기있는', '#윤기나는얼굴', '#지속력좋은파운데이션', '#30대여성', '#20대여성']\""
      ]
     },
     "execution_count": 8,
     "metadata": {},
     "output_type": "execute_result"
    }
   ],
   "source": [
    "df_bsc['HashTag'][0]"
   ]
  },
  {
   "cell_type": "code",
   "execution_count": 12,
   "id": "5f8370b0",
   "metadata": {},
   "outputs": [
    {
     "data": {
      "text/plain": [
       "['#촉촉한수분감',\n",
       " '#촉촉한사용감',\n",
       " '#윤기커버',\n",
       " '#부드러운사용감',\n",
       " '#생기있는',\n",
       " '#윤기나는얼굴',\n",
       " '#지속력좋은파운데이션',\n",
       " '#30대여성',\n",
       " '#20대여성']"
      ]
     },
     "execution_count": 12,
     "metadata": {},
     "output_type": "execute_result"
    }
   ],
   "source": [
    "tags = literal_eval(df_bsc['HashTag'][0])\n",
    "tags"
   ]
  },
  {
   "cell_type": "code",
   "execution_count": 13,
   "id": "c97734e9",
   "metadata": {},
   "outputs": [
    {
     "data": {
      "text/html": [
       "<div>\n",
       "<style scoped>\n",
       "    .dataframe tbody tr th:only-of-type {\n",
       "        vertical-align: middle;\n",
       "    }\n",
       "\n",
       "    .dataframe tbody tr th {\n",
       "        vertical-align: top;\n",
       "    }\n",
       "\n",
       "    .dataframe thead th {\n",
       "        text-align: right;\n",
       "    }\n",
       "</style>\n",
       "<table border=\"1\" class=\"dataframe\">\n",
       "  <thead>\n",
       "    <tr style=\"text-align: right;\">\n",
       "      <th></th>\n",
       "      <th>제품기호</th>\n",
       "      <th>dates</th>\n",
       "      <th>HashTag</th>\n",
       "      <th>likes</th>\n",
       "      <th>num_photo</th>\n",
       "      <th>year</th>\n",
       "      <th>month</th>\n",
       "    </tr>\n",
       "  </thead>\n",
       "  <tbody>\n",
       "    <tr>\n",
       "      <th>0</th>\n",
       "      <td>0번_제품</td>\n",
       "      <td>2022.01.</td>\n",
       "      <td>#촉촉한수분감</td>\n",
       "      <td>50</td>\n",
       "      <td>20</td>\n",
       "      <td>2022</td>\n",
       "      <td>01</td>\n",
       "    </tr>\n",
       "    <tr>\n",
       "      <th>1</th>\n",
       "      <td>0번_제품</td>\n",
       "      <td>2022.01.</td>\n",
       "      <td>#촉촉한사용감</td>\n",
       "      <td>50</td>\n",
       "      <td>20</td>\n",
       "      <td>2022</td>\n",
       "      <td>01</td>\n",
       "    </tr>\n",
       "    <tr>\n",
       "      <th>2</th>\n",
       "      <td>0번_제품</td>\n",
       "      <td>2022.01.</td>\n",
       "      <td>#윤기커버</td>\n",
       "      <td>50</td>\n",
       "      <td>20</td>\n",
       "      <td>2022</td>\n",
       "      <td>01</td>\n",
       "    </tr>\n",
       "  </tbody>\n",
       "</table>\n",
       "</div>"
      ],
      "text/plain": [
       "    제품기호      dates  HashTag  likes  num_photo   year month\n",
       "0  0번_제품   2022.01.  #촉촉한수분감     50         20   2022    01\n",
       "1  0번_제품   2022.01.  #촉촉한사용감     50         20   2022    01\n",
       "2  0번_제품   2022.01.    #윤기커버     50         20   2022    01"
      ]
     },
     "execution_count": 13,
     "metadata": {},
     "output_type": "execute_result"
    }
   ],
   "source": [
    "df_bsc_tmp = []\n",
    "for i in range(df_bsc.shape[0]):\n",
    "    tags = literal_eval(df_bsc['HashTag'][i])\n",
    "    df_tmp = pd.DataFrame({\n",
    "        \"제품기호\":df_bsc['제품기호'][i],\n",
    "        \"dates\":df_bsc['dates'][i],\n",
    "        \"HashTag\":tags,\n",
    "        \"likes\":df_bsc['num_review'][i],\n",
    "        'num_photo':df_bsc['num_photo'][i],\n",
    "        'year':df_bsc['year'][i],\n",
    "        'month':df_bsc['month'][i]\n",
    "                           })\n",
    "    df_bsc_tmp.append(df_tmp)\n",
    "df_bsc_rslt = pd.concat(df_bsc_tmp)\n",
    "\n",
    "df_bsc_rslt.head(3)"
   ]
  },
  {
   "cell_type": "code",
   "execution_count": 14,
   "id": "3d0d3351",
   "metadata": {},
   "outputs": [],
   "source": [
    "df_bsc_rslt.to_excel(basic_info_path+'basic_info_result.xlsx')"
   ]
  },
  {
   "cell_type": "markdown",
   "id": "e3a06607",
   "metadata": {},
   "source": [
    "### 3.4.4 해시태그 분석으로 제품 트렌드 변화 관찰"
   ]
  },
  {
   "cell_type": "code",
   "execution_count": null,
   "id": "863170ce",
   "metadata": {},
   "outputs": [],
   "source": []
  }
 ],
 "metadata": {
  "kernelspec": {
   "display_name": ".venv",
   "language": "python",
   "name": "python3"
  },
  "language_info": {
   "codemirror_mode": {
    "name": "ipython",
    "version": 3
   },
   "file_extension": ".py",
   "mimetype": "text/x-python",
   "name": "python",
   "nbconvert_exporter": "python",
   "pygments_lexer": "ipython3",
   "version": "3.11.2"
  }
 },
 "nbformat": 4,
 "nbformat_minor": 5
}
