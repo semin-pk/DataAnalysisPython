{
 "cells": [
  {
   "cell_type": "markdown",
   "id": "6e656d96",
   "metadata": {},
   "source": [
    "# 3.3 2040 여성들의 건강 고민 살피기"
   ]
  },
  {
   "cell_type": "code",
   "execution_count": 2,
   "id": "5544fb61",
   "metadata": {},
   "outputs": [
    {
     "name": "stdout",
     "output_type": "stream",
     "text": [
      "Collecting konlpy\n",
      "  Downloading konlpy-0.6.0-py2.py3-none-any.whl.metadata (1.9 kB)\n",
      "Collecting JPype1>=0.7.0 (from konlpy)\n",
      "  Downloading jpype1-1.5.2-cp311-cp311-win_amd64.whl.metadata (5.0 kB)\n",
      "Collecting lxml>=4.1.0 (from konlpy)\n",
      "  Downloading lxml-5.4.0-cp311-cp311-win_amd64.whl.metadata (3.6 kB)\n",
      "Requirement already satisfied: numpy>=1.6 in c:\\users\\hisem\\desktop\\dataanalysispython\\.venv\\lib\\site-packages (from konlpy) (2.2.5)\n",
      "Requirement already satisfied: packaging in c:\\users\\hisem\\desktop\\dataanalysispython\\.venv\\lib\\site-packages (from JPype1>=0.7.0->konlpy) (25.0)\n",
      "Downloading konlpy-0.6.0-py2.py3-none-any.whl (19.4 MB)\n",
      "   ---------------------------------------- 0.0/19.4 MB ? eta -:--:--\n",
      "   ---- ----------------------------------- 2.1/19.4 MB 9.8 MB/s eta 0:00:02\n",
      "   ------- -------------------------------- 3.7/19.4 MB 8.7 MB/s eta 0:00:02\n",
      "   --------- ------------------------------ 4.5/19.4 MB 6.9 MB/s eta 0:00:03\n",
      "   ---------- ----------------------------- 5.0/19.4 MB 5.9 MB/s eta 0:00:03\n",
      "   ------------ --------------------------- 6.0/19.4 MB 5.7 MB/s eta 0:00:03\n",
      "   -------------- ------------------------- 7.1/19.4 MB 5.6 MB/s eta 0:00:03\n",
      "   ----------------- ---------------------- 8.7/19.4 MB 5.9 MB/s eta 0:00:02\n",
      "   --------------------- ------------------ 10.2/19.4 MB 6.1 MB/s eta 0:00:02\n",
      "   ----------------------- ---------------- 11.3/19.4 MB 6.0 MB/s eta 0:00:02\n",
      "   ------------------------- -------------- 12.6/19.4 MB 6.0 MB/s eta 0:00:02\n",
      "   ----------------------------- ---------- 14.2/19.4 MB 6.1 MB/s eta 0:00:01\n",
      "   ------------------------------- -------- 15.5/19.4 MB 6.1 MB/s eta 0:00:01\n",
      "   -------------------------------- ------- 16.0/19.4 MB 5.9 MB/s eta 0:00:01\n",
      "   ----------------------------------- ---- 17.0/19.4 MB 5.7 MB/s eta 0:00:01\n",
      "   ------------------------------------- -- 18.4/19.4 MB 5.8 MB/s eta 0:00:01\n",
      "   ---------------------------------------  19.4/19.4 MB 5.8 MB/s eta 0:00:01\n",
      "   ---------------------------------------- 19.4/19.4 MB 5.7 MB/s eta 0:00:00\n",
      "Downloading jpype1-1.5.2-cp311-cp311-win_amd64.whl (356 kB)\n",
      "Downloading lxml-5.4.0-cp311-cp311-win_amd64.whl (3.8 MB)\n",
      "   ---------------------------------------- 0.0/3.8 MB ? eta -:--:--\n",
      "   -------- ------------------------------- 0.8/3.8 MB 3.7 MB/s eta 0:00:01\n",
      "   ---------------- ----------------------- 1.6/3.8 MB 4.4 MB/s eta 0:00:01\n",
      "   --------------------------- ------------ 2.6/3.8 MB 4.2 MB/s eta 0:00:01\n",
      "   ---------------------------------------- 3.8/3.8 MB 4.5 MB/s eta 0:00:00\n",
      "Installing collected packages: lxml, JPype1, konlpy\n",
      "\n",
      "   ---------------------------------------- 0/3 [lxml]\n",
      "   ---------------------------------------- 0/3 [lxml]\n",
      "   ---------------------------------------- 0/3 [lxml]\n",
      "   ---------------------------------------- 0/3 [lxml]\n",
      "   ------------- -------------------------- 1/3 [JPype1]\n",
      "   ------------- -------------------------- 1/3 [JPype1]\n",
      "   ------------- -------------------------- 1/3 [JPype1]\n",
      "   ------------- -------------------------- 1/3 [JPype1]\n",
      "   -------------------------- ------------- 2/3 [konlpy]\n",
      "   -------------------------- ------------- 2/3 [konlpy]\n",
      "   -------------------------- ------------- 2/3 [konlpy]\n",
      "   ---------------------------------------- 3/3 [konlpy]\n",
      "\n",
      "Successfully installed JPype1-1.5.2 konlpy-0.6.0 lxml-5.4.0\n"
     ]
    },
    {
     "name": "stderr",
     "output_type": "stream",
     "text": [
      "\n",
      "[notice] A new release of pip is available: 25.1 -> 25.1.1\n",
      "[notice] To update, run: python.exe -m pip install --upgrade pip\n"
     ]
    }
   ],
   "source": [
    "!pip install konlpy"
   ]
  },
  {
   "cell_type": "code",
   "execution_count": 3,
   "id": "39c525ab",
   "metadata": {},
   "outputs": [
    {
     "data": {
      "text/html": [
       "<div>\n",
       "<style scoped>\n",
       "    .dataframe tbody tr th:only-of-type {\n",
       "        vertical-align: middle;\n",
       "    }\n",
       "\n",
       "    .dataframe tbody tr th {\n",
       "        vertical-align: top;\n",
       "    }\n",
       "\n",
       "    .dataframe thead th {\n",
       "        text-align: right;\n",
       "    }\n",
       "</style>\n",
       "<table border=\"1\" class=\"dataframe\">\n",
       "  <thead>\n",
       "    <tr style=\"text-align: right;\">\n",
       "      <th></th>\n",
       "      <th>title</th>\n",
       "      <th>replys</th>\n",
       "      <th>views</th>\n",
       "      <th>date</th>\n",
       "    </tr>\n",
       "  </thead>\n",
       "  <tbody>\n",
       "    <tr>\n",
       "      <th>0</th>\n",
       "      <td>강남다이어트 하체살빼기 셀룰라이트 제거부터 확실히 라인이 달라졌어요</td>\n",
       "      <td>2</td>\n",
       "      <td>391</td>\n",
       "      <td>2022.04.05.</td>\n",
       "    </tr>\n",
       "    <tr>\n",
       "      <th>1</th>\n",
       "      <td>발렌티노 쿠션과 입생로랑 쿠션 두개 다 써 보신 분 계실까요?</td>\n",
       "      <td>1</td>\n",
       "      <td>162</td>\n",
       "      <td>2022.04.05.</td>\n",
       "    </tr>\n",
       "    <tr>\n",
       "      <th>2</th>\n",
       "      <td>눈썹 반영규 궁금해요!</td>\n",
       "      <td>8</td>\n",
       "      <td>87</td>\n",
       "      <td>2022.04.05.</td>\n",
       "    </tr>\n",
       "    <tr>\n",
       "      <th>3</th>\n",
       "      <td>필테 헬스병행</td>\n",
       "      <td>4</td>\n",
       "      <td>90</td>\n",
       "      <td>2022.04.05.</td>\n",
       "    </tr>\n",
       "    <tr>\n",
       "      <th>4</th>\n",
       "      <td>남편 피부관리 해주시는 분들</td>\n",
       "      <td>10</td>\n",
       "      <td>109</td>\n",
       "      <td>2022.04.05.</td>\n",
       "    </tr>\n",
       "  </tbody>\n",
       "</table>\n",
       "</div>"
      ],
      "text/plain": [
       "                                   title  replys views         date\n",
       "0  강남다이어트 하체살빼기 셀룰라이트 제거부터 확실히 라인이 달라졌어요       2   391  2022.04.05.\n",
       "1     발렌티노 쿠션과 입생로랑 쿠션 두개 다 써 보신 분 계실까요?       1   162  2022.04.05.\n",
       "2                           눈썹 반영규 궁금해요!       8    87  2022.04.05.\n",
       "3                                필테 헬스병행       4    90  2022.04.05.\n",
       "4                        남편 피부관리 해주시는 분들      10   109  2022.04.05."
      ]
     },
     "execution_count": 3,
     "metadata": {},
     "output_type": "execute_result"
    }
   ],
   "source": [
    "import re # 정규 표현식\n",
    "\n",
    "import pandas as pd \n",
    "import numpy as np\n",
    "\n",
    "from kiwipiepy import Kiwi # 형태소 분석\n",
    "from collections import Counter # 다빈도 단어 분석\n",
    "import warnings\n",
    "warnings.filterwarnings(\"ignore\")\n",
    "\n",
    "import matplotlib.pyplot as plt\n",
    "%matplotlib inline\n",
    "\n",
    "plt.rc('font', family='Malgun Gothic')\n",
    "import matplotlib_inline.backend_inline\n",
    "matplotlib_inline.backend_inline.set_matplotlib_formats('retina')\n",
    "\n",
    "import seaborn as sns\n",
    "\n",
    "import calendar\n",
    "\n",
    "from dateutil.parser import parse\n",
    "\n",
    "from collections import Counter\n",
    "from konlpy.tag import Komoran, Okt, Twitter\n",
    "from pprint import pprint\n",
    "\n",
    "filepath = './data'\n",
    "df = pd.read_excel(filepath+\"/2장_여성커뮤니티데이터.xlsx\")\n",
    "df.head()"
   ]
  },
  {
   "cell_type": "markdown",
   "id": "5047fbf2",
   "metadata": {},
   "source": [
    "## 3.3.2 데이터분석: 게시물 날짜 정보 구하기"
   ]
  },
  {
   "cell_type": "code",
   "execution_count": null,
   "id": "fa02ef58",
   "metadata": {},
   "outputs": [],
   "source": [
    "date_sample = "
   ]
  }
 ],
 "metadata": {
  "kernelspec": {
   "display_name": ".venv",
   "language": "python",
   "name": "python3"
  },
  "language_info": {
   "codemirror_mode": {
    "name": "ipython",
    "version": 3
   },
   "file_extension": ".py",
   "mimetype": "text/x-python",
   "name": "python",
   "nbconvert_exporter": "python",
   "pygments_lexer": "ipython3",
   "version": "3.11.2"
  }
 },
 "nbformat": 4,
 "nbformat_minor": 5
}
