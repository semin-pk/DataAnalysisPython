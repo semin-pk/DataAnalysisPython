{
 "cells": [
  {
   "cell_type": "code",
   "execution_count": null,
   "id": "dc66be56",
   "metadata": {},
   "outputs": [],
   "source": [
    "!pip install requests bs4 scikit-learn tweepy kiwipiepy IPython"
   ]
  },
  {
   "cell_type": "code",
   "execution_count": null,
   "id": "28ae98bf",
   "metadata": {},
   "outputs": [],
   "source": [
    "!pip install scipy numpy matplotlib seaborn statsmodels openpyxl"
   ]
  },
  {
   "cell_type": "code",
   "execution_count": 1,
   "id": "7f3dcae2",
   "metadata": {},
   "outputs": [],
   "source": [
    "import pandas as pd\n",
    "\n",
    "sample_data = {\"a\":[4,5,6],\n",
    "               \"b\":[7,8,9],\n",
    "               \"c\":[10,11,12]}\n",
    "\n",
    "df = pd.DataFrame(sample_data)\n",
    "df_index = pd.DataFrame(sample_data, index=[1,2,3])"
   ]
  },
  {
   "cell_type": "code",
   "execution_count": 2,
   "id": "4e8696f6",
   "metadata": {},
   "outputs": [
    {
     "data": {
      "text/html": [
       "<div>\n",
       "<style scoped>\n",
       "    .dataframe tbody tr th:only-of-type {\n",
       "        vertical-align: middle;\n",
       "    }\n",
       "\n",
       "    .dataframe tbody tr th {\n",
       "        vertical-align: top;\n",
       "    }\n",
       "\n",
       "    .dataframe thead th {\n",
       "        text-align: right;\n",
       "    }\n",
       "</style>\n",
       "<table border=\"1\" class=\"dataframe\">\n",
       "  <thead>\n",
       "    <tr style=\"text-align: right;\">\n",
       "      <th></th>\n",
       "      <th>a</th>\n",
       "      <th>b</th>\n",
       "      <th>c</th>\n",
       "    </tr>\n",
       "  </thead>\n",
       "  <tbody>\n",
       "    <tr>\n",
       "      <th>0</th>\n",
       "      <td>4</td>\n",
       "      <td>7</td>\n",
       "      <td>10</td>\n",
       "    </tr>\n",
       "    <tr>\n",
       "      <th>1</th>\n",
       "      <td>5</td>\n",
       "      <td>8</td>\n",
       "      <td>11</td>\n",
       "    </tr>\n",
       "    <tr>\n",
       "      <th>2</th>\n",
       "      <td>6</td>\n",
       "      <td>9</td>\n",
       "      <td>12</td>\n",
       "    </tr>\n",
       "  </tbody>\n",
       "</table>\n",
       "</div>"
      ],
      "text/plain": [
       "   a  b   c\n",
       "0  4  7  10\n",
       "1  5  8  11\n",
       "2  6  9  12"
      ]
     },
     "execution_count": 2,
     "metadata": {},
     "output_type": "execute_result"
    }
   ],
   "source": [
    "df\n"
   ]
  },
  {
   "cell_type": "markdown",
   "id": "ecaa6784",
   "metadata": {},
   "source": [
    "## PIVOT 실습\n",
    "1. 데이터를 추출"
   ]
  },
  {
   "cell_type": "code",
   "execution_count": 3,
   "id": "3e6ee122",
   "metadata": {},
   "outputs": [],
   "source": [
    "df_1 = pd.DataFrame(\n",
    "    [[4, 7, 10],\n",
    "     [5, 8, 11],\n",
    "     [6, 9, 12]],\n",
    "     index=[1, 2, 3],\n",
    "     columns=['a', 'b', 'c']\n",
    ")"
   ]
  },
  {
   "cell_type": "code",
   "execution_count": 4,
   "id": "1950e388",
   "metadata": {},
   "outputs": [
    {
     "data": {
      "text/html": [
       "<div>\n",
       "<style scoped>\n",
       "    .dataframe tbody tr th:only-of-type {\n",
       "        vertical-align: middle;\n",
       "    }\n",
       "\n",
       "    .dataframe tbody tr th {\n",
       "        vertical-align: top;\n",
       "    }\n",
       "\n",
       "    .dataframe thead th {\n",
       "        text-align: right;\n",
       "    }\n",
       "</style>\n",
       "<table border=\"1\" class=\"dataframe\">\n",
       "  <thead>\n",
       "    <tr style=\"text-align: right;\">\n",
       "      <th></th>\n",
       "      <th>a</th>\n",
       "      <th>b</th>\n",
       "      <th>c</th>\n",
       "    </tr>\n",
       "  </thead>\n",
       "  <tbody>\n",
       "    <tr>\n",
       "      <th>1</th>\n",
       "      <td>4</td>\n",
       "      <td>7</td>\n",
       "      <td>10</td>\n",
       "    </tr>\n",
       "    <tr>\n",
       "      <th>2</th>\n",
       "      <td>5</td>\n",
       "      <td>8</td>\n",
       "      <td>11</td>\n",
       "    </tr>\n",
       "    <tr>\n",
       "      <th>3</th>\n",
       "      <td>6</td>\n",
       "      <td>9</td>\n",
       "      <td>12</td>\n",
       "    </tr>\n",
       "  </tbody>\n",
       "</table>\n",
       "</div>"
      ],
      "text/plain": [
       "   a  b   c\n",
       "1  4  7  10\n",
       "2  5  8  11\n",
       "3  6  9  12"
      ]
     },
     "execution_count": 4,
     "metadata": {},
     "output_type": "execute_result"
    }
   ],
   "source": [
    "df_1"
   ]
  },
  {
   "cell_type": "code",
   "execution_count": null,
   "id": "7e7c9fca",
   "metadata": {},
   "outputs": [
    {
     "data": {
      "text/html": [
       "<div>\n",
       "<style scoped>\n",
       "    .dataframe tbody tr th:only-of-type {\n",
       "        vertical-align: middle;\n",
       "    }\n",
       "\n",
       "    .dataframe tbody tr th {\n",
       "        vertical-align: top;\n",
       "    }\n",
       "\n",
       "    .dataframe thead th {\n",
       "        text-align: right;\n",
       "    }\n",
       "</style>\n",
       "<table border=\"1\" class=\"dataframe\">\n",
       "  <thead>\n",
       "    <tr style=\"text-align: right;\">\n",
       "      <th></th>\n",
       "      <th>foo</th>\n",
       "      <th>bar</th>\n",
       "      <th>baz</th>\n",
       "      <th>zoo</th>\n",
       "    </tr>\n",
       "  </thead>\n",
       "  <tbody>\n",
       "    <tr>\n",
       "      <th>0</th>\n",
       "      <td>one</td>\n",
       "      <td>A</td>\n",
       "      <td>1</td>\n",
       "      <td>x</td>\n",
       "    </tr>\n",
       "    <tr>\n",
       "      <th>1</th>\n",
       "      <td>one</td>\n",
       "      <td>B</td>\n",
       "      <td>2</td>\n",
       "      <td>y</td>\n",
       "    </tr>\n",
       "    <tr>\n",
       "      <th>2</th>\n",
       "      <td>one</td>\n",
       "      <td>C</td>\n",
       "      <td>3</td>\n",
       "      <td>z</td>\n",
       "    </tr>\n",
       "    <tr>\n",
       "      <th>3</th>\n",
       "      <td>two</td>\n",
       "      <td>A</td>\n",
       "      <td>4</td>\n",
       "      <td>q</td>\n",
       "    </tr>\n",
       "    <tr>\n",
       "      <th>4</th>\n",
       "      <td>two</td>\n",
       "      <td>B</td>\n",
       "      <td>5</td>\n",
       "      <td>w</td>\n",
       "    </tr>\n",
       "    <tr>\n",
       "      <th>5</th>\n",
       "      <td>two</td>\n",
       "      <td>C</td>\n",
       "      <td>6</td>\n",
       "      <td>t</td>\n",
       "    </tr>\n",
       "  </tbody>\n",
       "</table>\n",
       "</div>"
      ],
      "text/plain": [
       "   foo bar  baz zoo\n",
       "0  one   A    1   x\n",
       "1  one   B    2   y\n",
       "2  one   C    3   z\n",
       "3  two   A    4   q\n",
       "4  two   B    5   w\n",
       "5  two   C    6   t"
      ]
     },
     "execution_count": 7,
     "metadata": {},
     "output_type": "execute_result"
    }
   ],
   "source": [
    "df = pd.DataFrame({'foo': ['one', 'one', 'one', 'two', 'two', 'two'],\n",
    "                   'bar': ['A', 'B', 'C', 'A', 'B', 'C'],\n",
    "                   'baz': [1, 2, 3, 4, 5, 6],\n",
    "                   'zoo': ['x', 'y', 'z', 'q', 'w', 't']})\n",
    "\n",
    "df"
   ]
  },
  {
   "cell_type": "code",
   "execution_count": 11,
   "id": "df1f20cf",
   "metadata": {},
   "outputs": [
    {
     "data": {
      "text/html": [
       "<div>\n",
       "<style scoped>\n",
       "    .dataframe tbody tr th:only-of-type {\n",
       "        vertical-align: middle;\n",
       "    }\n",
       "\n",
       "    .dataframe tbody tr th {\n",
       "        vertical-align: top;\n",
       "    }\n",
       "\n",
       "    .dataframe thead th {\n",
       "        text-align: right;\n",
       "    }\n",
       "</style>\n",
       "<table border=\"1\" class=\"dataframe\">\n",
       "  <thead>\n",
       "    <tr style=\"text-align: right;\">\n",
       "      <th>bar</th>\n",
       "      <th>A</th>\n",
       "      <th>B</th>\n",
       "      <th>C</th>\n",
       "    </tr>\n",
       "    <tr>\n",
       "      <th>foo</th>\n",
       "      <th></th>\n",
       "      <th></th>\n",
       "      <th></th>\n",
       "    </tr>\n",
       "  </thead>\n",
       "  <tbody>\n",
       "    <tr>\n",
       "      <th>one</th>\n",
       "      <td>1</td>\n",
       "      <td>2</td>\n",
       "      <td>3</td>\n",
       "    </tr>\n",
       "    <tr>\n",
       "      <th>two</th>\n",
       "      <td>4</td>\n",
       "      <td>5</td>\n",
       "      <td>6</td>\n",
       "    </tr>\n",
       "  </tbody>\n",
       "</table>\n",
       "</div>"
      ],
      "text/plain": [
       "bar  A  B  C\n",
       "foo         \n",
       "one  1  2  3\n",
       "two  4  5  6"
      ]
     },
     "execution_count": 11,
     "metadata": {},
     "output_type": "execute_result"
    }
   ],
   "source": [
    "df.pivot(index='foo', columns='bar', values='baz')"
   ]
  },
  {
   "cell_type": "code",
   "execution_count": 12,
   "id": "57647126",
   "metadata": {},
   "outputs": [
    {
     "data": {
      "text/html": [
       "<div>\n",
       "<style scoped>\n",
       "    .dataframe tbody tr th:only-of-type {\n",
       "        vertical-align: middle;\n",
       "    }\n",
       "\n",
       "    .dataframe tbody tr th {\n",
       "        vertical-align: top;\n",
       "    }\n",
       "\n",
       "    .dataframe thead tr th {\n",
       "        text-align: left;\n",
       "    }\n",
       "\n",
       "    .dataframe thead tr:last-of-type th {\n",
       "        text-align: right;\n",
       "    }\n",
       "</style>\n",
       "<table border=\"1\" class=\"dataframe\">\n",
       "  <thead>\n",
       "    <tr>\n",
       "      <th></th>\n",
       "      <th colspan=\"3\" halign=\"left\">baz</th>\n",
       "      <th colspan=\"3\" halign=\"left\">zoo</th>\n",
       "    </tr>\n",
       "    <tr>\n",
       "      <th>bar</th>\n",
       "      <th>A</th>\n",
       "      <th>B</th>\n",
       "      <th>C</th>\n",
       "      <th>A</th>\n",
       "      <th>B</th>\n",
       "      <th>C</th>\n",
       "    </tr>\n",
       "    <tr>\n",
       "      <th>foo</th>\n",
       "      <th></th>\n",
       "      <th></th>\n",
       "      <th></th>\n",
       "      <th></th>\n",
       "      <th></th>\n",
       "      <th></th>\n",
       "    </tr>\n",
       "  </thead>\n",
       "  <tbody>\n",
       "    <tr>\n",
       "      <th>one</th>\n",
       "      <td>1</td>\n",
       "      <td>2</td>\n",
       "      <td>3</td>\n",
       "      <td>x</td>\n",
       "      <td>y</td>\n",
       "      <td>z</td>\n",
       "    </tr>\n",
       "    <tr>\n",
       "      <th>two</th>\n",
       "      <td>4</td>\n",
       "      <td>5</td>\n",
       "      <td>6</td>\n",
       "      <td>q</td>\n",
       "      <td>w</td>\n",
       "      <td>t</td>\n",
       "    </tr>\n",
       "  </tbody>\n",
       "</table>\n",
       "</div>"
      ],
      "text/plain": [
       "    baz       zoo      \n",
       "bar   A  B  C   A  B  C\n",
       "foo                    \n",
       "one   1  2  3   x  y  z\n",
       "two   4  5  6   q  w  t"
      ]
     },
     "execution_count": 12,
     "metadata": {},
     "output_type": "execute_result"
    }
   ],
   "source": [
    "df.pivot(index='foo', columns='bar', values=['baz', 'zoo'])"
   ]
  },
  {
   "cell_type": "markdown",
   "id": "93a314d9",
   "metadata": {},
   "source": [
    "## CONCAT 실습\n",
    "1. 데이터를 합칠 때 사용하는 함수 중 하나\n",
    "2. 열 이름이 서로 일치하면 밑으로 연결됨.\n",
    "\n",
    "3. 합쳐야 할 데이터프레임끼리 열 이름이 서로 일치하지 않다면 결측치로 처리함\n",
    "\n",
    "\n"
   ]
  },
  {
   "cell_type": "code",
   "execution_count": 13,
   "id": "4775a408",
   "metadata": {},
   "outputs": [
    {
     "data": {
      "text/html": [
       "<div>\n",
       "<style scoped>\n",
       "    .dataframe tbody tr th:only-of-type {\n",
       "        vertical-align: middle;\n",
       "    }\n",
       "\n",
       "    .dataframe tbody tr th {\n",
       "        vertical-align: top;\n",
       "    }\n",
       "\n",
       "    .dataframe thead th {\n",
       "        text-align: right;\n",
       "    }\n",
       "</style>\n",
       "<table border=\"1\" class=\"dataframe\">\n",
       "  <thead>\n",
       "    <tr style=\"text-align: right;\">\n",
       "      <th></th>\n",
       "      <th>letter</th>\n",
       "      <th>number</th>\n",
       "    </tr>\n",
       "  </thead>\n",
       "  <tbody>\n",
       "    <tr>\n",
       "      <th>0</th>\n",
       "      <td>a</td>\n",
       "      <td>1</td>\n",
       "    </tr>\n",
       "    <tr>\n",
       "      <th>1</th>\n",
       "      <td>b</td>\n",
       "      <td>2</td>\n",
       "    </tr>\n",
       "  </tbody>\n",
       "</table>\n",
       "</div>"
      ],
      "text/plain": [
       "  letter  number\n",
       "0      a       1\n",
       "1      b       2"
      ]
     },
     "metadata": {},
     "output_type": "display_data"
    },
    {
     "data": {
      "text/html": [
       "<div>\n",
       "<style scoped>\n",
       "    .dataframe tbody tr th:only-of-type {\n",
       "        vertical-align: middle;\n",
       "    }\n",
       "\n",
       "    .dataframe tbody tr th {\n",
       "        vertical-align: top;\n",
       "    }\n",
       "\n",
       "    .dataframe thead th {\n",
       "        text-align: right;\n",
       "    }\n",
       "</style>\n",
       "<table border=\"1\" class=\"dataframe\">\n",
       "  <thead>\n",
       "    <tr style=\"text-align: right;\">\n",
       "      <th></th>\n",
       "      <th>letter</th>\n",
       "      <th>number</th>\n",
       "    </tr>\n",
       "  </thead>\n",
       "  <tbody>\n",
       "    <tr>\n",
       "      <th>0</th>\n",
       "      <td>c</td>\n",
       "      <td>3</td>\n",
       "    </tr>\n",
       "    <tr>\n",
       "      <th>1</th>\n",
       "      <td>d</td>\n",
       "      <td>4</td>\n",
       "    </tr>\n",
       "  </tbody>\n",
       "</table>\n",
       "</div>"
      ],
      "text/plain": [
       "  letter  number\n",
       "0      c       3\n",
       "1      d       4"
      ]
     },
     "metadata": {},
     "output_type": "display_data"
    }
   ],
   "source": [
    "data1 = [['a',1],\n",
    "         ['b', 2]]\n",
    "data2 = [['c',3],\n",
    "         ['d', 4]]\n",
    "\n",
    "df1 = pd.DataFrame(data1, columns=['letter', 'number'])\n",
    "df2 = pd.DataFrame(data2, columns=['letter', 'number'])\n",
    "\n",
    "display(df1)\n",
    "display(df2)"
   ]
  },
  {
   "cell_type": "code",
   "execution_count": 14,
   "id": "eb80d519",
   "metadata": {},
   "outputs": [
    {
     "data": {
      "text/html": [
       "<div>\n",
       "<style scoped>\n",
       "    .dataframe tbody tr th:only-of-type {\n",
       "        vertical-align: middle;\n",
       "    }\n",
       "\n",
       "    .dataframe tbody tr th {\n",
       "        vertical-align: top;\n",
       "    }\n",
       "\n",
       "    .dataframe thead th {\n",
       "        text-align: right;\n",
       "    }\n",
       "</style>\n",
       "<table border=\"1\" class=\"dataframe\">\n",
       "  <thead>\n",
       "    <tr style=\"text-align: right;\">\n",
       "      <th></th>\n",
       "      <th>letter</th>\n",
       "      <th>number</th>\n",
       "    </tr>\n",
       "  </thead>\n",
       "  <tbody>\n",
       "    <tr>\n",
       "      <th>0</th>\n",
       "      <td>a</td>\n",
       "      <td>1</td>\n",
       "    </tr>\n",
       "    <tr>\n",
       "      <th>1</th>\n",
       "      <td>b</td>\n",
       "      <td>2</td>\n",
       "    </tr>\n",
       "    <tr>\n",
       "      <th>0</th>\n",
       "      <td>c</td>\n",
       "      <td>3</td>\n",
       "    </tr>\n",
       "    <tr>\n",
       "      <th>1</th>\n",
       "      <td>d</td>\n",
       "      <td>4</td>\n",
       "    </tr>\n",
       "  </tbody>\n",
       "</table>\n",
       "</div>"
      ],
      "text/plain": [
       "  letter  number\n",
       "0      a       1\n",
       "1      b       2\n",
       "0      c       3\n",
       "1      d       4"
      ]
     },
     "execution_count": 14,
     "metadata": {},
     "output_type": "execute_result"
    }
   ],
   "source": [
    "pd.concat([df1, df2])"
   ]
  },
  {
   "cell_type": "code",
   "execution_count": 15,
   "id": "958d03aa",
   "metadata": {},
   "outputs": [
    {
     "data": {
      "text/html": [
       "<div>\n",
       "<style scoped>\n",
       "    .dataframe tbody tr th:only-of-type {\n",
       "        vertical-align: middle;\n",
       "    }\n",
       "\n",
       "    .dataframe tbody tr th {\n",
       "        vertical-align: top;\n",
       "    }\n",
       "\n",
       "    .dataframe thead th {\n",
       "        text-align: right;\n",
       "    }\n",
       "</style>\n",
       "<table border=\"1\" class=\"dataframe\">\n",
       "  <thead>\n",
       "    <tr style=\"text-align: right;\">\n",
       "      <th></th>\n",
       "      <th>letter</th>\n",
       "      <th>number</th>\n",
       "      <th>animal</th>\n",
       "    </tr>\n",
       "  </thead>\n",
       "  <tbody>\n",
       "    <tr>\n",
       "      <th>0</th>\n",
       "      <td>a</td>\n",
       "      <td>1</td>\n",
       "      <td>NaN</td>\n",
       "    </tr>\n",
       "    <tr>\n",
       "      <th>1</th>\n",
       "      <td>b</td>\n",
       "      <td>2</td>\n",
       "      <td>NaN</td>\n",
       "    </tr>\n",
       "    <tr>\n",
       "      <th>0</th>\n",
       "      <td>e</td>\n",
       "      <td>5</td>\n",
       "      <td>cat</td>\n",
       "    </tr>\n",
       "    <tr>\n",
       "      <th>1</th>\n",
       "      <td>f</td>\n",
       "      <td>6</td>\n",
       "      <td>dog</td>\n",
       "    </tr>\n",
       "  </tbody>\n",
       "</table>\n",
       "</div>"
      ],
      "text/plain": [
       "  letter  number animal\n",
       "0      a       1    NaN\n",
       "1      b       2    NaN\n",
       "0      e       5    cat\n",
       "1      f       6    dog"
      ]
     },
     "execution_count": 15,
     "metadata": {},
     "output_type": "execute_result"
    }
   ],
   "source": [
    "df3 = pd.DataFrame([['e', 5, 'cat'], ['f', 6, 'dog']], columns=['letter', 'number', 'animal'])\n",
    "pd.concat([df1, df3])"
   ]
  },
  {
   "cell_type": "code",
   "execution_count": 17,
   "id": "77d8d324",
   "metadata": {},
   "outputs": [
    {
     "data": {
      "text/html": [
       "<div>\n",
       "<style scoped>\n",
       "    .dataframe tbody tr th:only-of-type {\n",
       "        vertical-align: middle;\n",
       "    }\n",
       "\n",
       "    .dataframe tbody tr th {\n",
       "        vertical-align: top;\n",
       "    }\n",
       "\n",
       "    .dataframe thead th {\n",
       "        text-align: right;\n",
       "    }\n",
       "</style>\n",
       "<table border=\"1\" class=\"dataframe\">\n",
       "  <thead>\n",
       "    <tr style=\"text-align: right;\">\n",
       "      <th></th>\n",
       "      <th>letter</th>\n",
       "      <th>number</th>\n",
       "    </tr>\n",
       "  </thead>\n",
       "  <tbody>\n",
       "    <tr>\n",
       "      <th>0</th>\n",
       "      <td>a</td>\n",
       "      <td>1</td>\n",
       "    </tr>\n",
       "    <tr>\n",
       "      <th>1</th>\n",
       "      <td>b</td>\n",
       "      <td>2</td>\n",
       "    </tr>\n",
       "    <tr>\n",
       "      <th>0</th>\n",
       "      <td>e</td>\n",
       "      <td>5</td>\n",
       "    </tr>\n",
       "    <tr>\n",
       "      <th>1</th>\n",
       "      <td>f</td>\n",
       "      <td>6</td>\n",
       "    </tr>\n",
       "  </tbody>\n",
       "</table>\n",
       "</div>"
      ],
      "text/plain": [
       "  letter  number\n",
       "0      a       1\n",
       "1      b       2\n",
       "0      e       5\n",
       "1      f       6"
      ]
     },
     "execution_count": 17,
     "metadata": {},
     "output_type": "execute_result"
    }
   ],
   "source": [
    "pd.concat([df1, df3], join=\"inner\")"
   ]
  },
  {
   "cell_type": "code",
   "execution_count": 18,
   "id": "f48f2d36",
   "metadata": {},
   "outputs": [
    {
     "data": {
      "text/html": [
       "<div>\n",
       "<style scoped>\n",
       "    .dataframe tbody tr th:only-of-type {\n",
       "        vertical-align: middle;\n",
       "    }\n",
       "\n",
       "    .dataframe tbody tr th {\n",
       "        vertical-align: top;\n",
       "    }\n",
       "\n",
       "    .dataframe thead th {\n",
       "        text-align: right;\n",
       "    }\n",
       "</style>\n",
       "<table border=\"1\" class=\"dataframe\">\n",
       "  <thead>\n",
       "    <tr style=\"text-align: right;\">\n",
       "      <th></th>\n",
       "      <th>animal</th>\n",
       "      <th>name</th>\n",
       "    </tr>\n",
       "  </thead>\n",
       "  <tbody>\n",
       "    <tr>\n",
       "      <th>0</th>\n",
       "      <td>bird</td>\n",
       "      <td>polly</td>\n",
       "    </tr>\n",
       "    <tr>\n",
       "      <th>1</th>\n",
       "      <td>monkey</td>\n",
       "      <td>george</td>\n",
       "    </tr>\n",
       "  </tbody>\n",
       "</table>\n",
       "</div>"
      ],
      "text/plain": [
       "   animal    name\n",
       "0    bird   polly\n",
       "1  monkey  george"
      ]
     },
     "execution_count": 18,
     "metadata": {},
     "output_type": "execute_result"
    }
   ],
   "source": [
    "df4 = pd.DataFrame([['bird' ,'polly'], ['monkey' ,'george']], columns=['animal' ,'name'])\n",
    "df4"
   ]
  },
  {
   "cell_type": "code",
   "execution_count": null,
   "id": "7f66c4f2",
   "metadata": {},
   "outputs": [],
   "source": [
    "#가로 방향으로 합치기 axis=1\n",
    "pd.concat([df1, df4], axis=1)"
   ]
  },
  {
   "cell_type": "markdown",
   "id": "752a0154",
   "metadata": {},
   "source": [
    "## sort_value()\n",
    "1. 데이터를 정렬"
   ]
  },
  {
   "cell_type": "code",
   "execution_count": null,
   "id": "714ce933",
   "metadata": {},
   "outputs": [],
   "source": [
    "import numpy as np\n",
    "\n",
    "df = pd.DataFrame({\n",
    "    'col1': ['A', 'A', 'B', np.nan, 'D', 'C'],\n",
    "    'col2': [2, 1, 9, 8, 7, 4],\n",
    "    'col3': [0, 1, 9, 4, 2, 3],\n",
    "    'col4': ['a', 'B', 'c', 'D', 'e', 'F']\n",
    "})\n",
    "display(df)"
   ]
  },
  {
   "cell_type": "code",
   "execution_count": null,
   "id": "27c61e9d",
   "metadata": {},
   "outputs": [],
   "source": [
    "df.sort_values(by=['col1'])"
   ]
  },
  {
   "cell_type": "code",
   "execution_count": null,
   "id": "5dcc5411",
   "metadata": {},
   "outputs": [],
   "source": [
    "df.sort_values(by=['col1'], ascending=False)"
   ]
  },
  {
   "cell_type": "code",
   "execution_count": null,
   "id": "8e14e9b1",
   "metadata": {},
   "outputs": [],
   "source": [
    "df.sort_values(by=['col1', 'col2'])"
   ]
  },
  {
   "cell_type": "code",
   "execution_count": null,
   "id": "d53a2b5c",
   "metadata": {},
   "outputs": [],
   "source": [
    "df.sort_values(by='col1', ascending=False, na_position='first')"
   ]
  },
  {
   "cell_type": "markdown",
   "id": "a4d373a3",
   "metadata": {},
   "source": [
    "## 인덱스 재정렬\n"
   ]
  },
  {
   "cell_type": "code",
   "execution_count": null,
   "id": "67ce4ff3",
   "metadata": {},
   "outputs": [],
   "source": [
    "df = pd.DataFrame([1, 2, 3, 4, 5], index=[100, 29, 234, 1, 150], columns=['A'])\n",
    "df"
   ]
  },
  {
   "cell_type": "code",
   "execution_count": null,
   "id": "da92d822",
   "metadata": {},
   "outputs": [],
   "source": [
    "df.sort_index()"
   ]
  },
  {
   "cell_type": "code",
   "execution_count": null,
   "id": "8aebe17f",
   "metadata": {},
   "outputs": [],
   "source": [
    "df.sort_index(ascending=False)"
   ]
  },
  {
   "cell_type": "code",
   "execution_count": null,
   "id": "fd460ac0",
   "metadata": {},
   "outputs": [],
   "source": [
    "#reset_index()\n",
    "df = pd.DataFrame([('bird', 389.0),\n",
    "                   ('bird', 24.0),\n",
    "                   ('mammal', 80.5),\n",
    "                   ('mammal', np.nan)],\n",
    "                   index=['falcon', 'parrot', 'lion', 'monkey'],\n",
    "                   columns=('class', 'max_speed'))\n",
    "\n",
    "df"
   ]
  },
  {
   "cell_type": "code",
   "execution_count": null,
   "id": "eb335473",
   "metadata": {},
   "outputs": [],
   "source": [
    "df.reset_index()\n",
    "#기존 인덱스가 열로 이동"
   ]
  },
  {
   "cell_type": "code",
   "execution_count": null,
   "id": "0fda7f95",
   "metadata": {},
   "outputs": [],
   "source": [
    "df.reset_index(drop=True)"
   ]
  },
  {
   "cell_type": "markdown",
   "id": "ac085a36",
   "metadata": {},
   "source": [
    "## 값을 지우는 drop(), dropna()"
   ]
  },
  {
   "cell_type": "code",
   "execution_count": null,
   "id": "16ecaf85",
   "metadata": {},
   "outputs": [],
   "source": [
    "df = pd.DataFrame(np.arange(12).reshape(3, 4), columns=['A', 'B', 'C', 'D'])\n",
    "df"
   ]
  },
  {
   "cell_type": "code",
   "execution_count": null,
   "id": "25685721",
   "metadata": {},
   "outputs": [],
   "source": [
    "df.drop(columns=['B', 'C'])"
   ]
  },
  {
   "cell_type": "code",
   "execution_count": null,
   "id": "18700f52",
   "metadata": {},
   "outputs": [],
   "source": [
    "df.drop([0, 1])"
   ]
  },
  {
   "cell_type": "code",
   "execution_count": null,
   "id": "f78dbbc9",
   "metadata": {},
   "outputs": [],
   "source": [
    "df.drop(index=[0, 1], columns=['B', 'C'])"
   ]
  },
  {
   "cell_type": "code",
   "execution_count": null,
   "id": "a9f914d8",
   "metadata": {},
   "outputs": [],
   "source": [
    "df = pd.DataFrame({\"name\": ['Alfred', 'Batman', 'Catwoman'],\n",
    "                   \"toy\":[np.nan, 'Batmobile', 'Bullwhip'],\n",
    "                   \"born\": [np.nan, \"1940-04-25\", np.nan]})\n",
    "df"
   ]
  },
  {
   "cell_type": "code",
   "execution_count": null,
   "id": "10f693df",
   "metadata": {},
   "outputs": [],
   "source": [
    "df.dropna()"
   ]
  },
  {
   "cell_type": "code",
   "execution_count": null,
   "id": "f39f75a3",
   "metadata": {},
   "outputs": [],
   "source": [
    "df.dropna(axis=1)"
   ]
  },
  {
   "cell_type": "code",
   "execution_count": null,
   "id": "8e663e81",
   "metadata": {},
   "outputs": [],
   "source": [
    "df.dropna(subset=['name', 'toy'])"
   ]
  },
  {
   "cell_type": "markdown",
   "id": "5e090f87",
   "metadata": {},
   "source": [
    "#  데이터 추출\n",
    "- 단순하게 데이터를 정리할 목적으로만 추출\n"
   ]
  },
  {
   "cell_type": "code",
   "execution_count": null,
   "id": "07ec11c4",
   "metadata": {},
   "outputs": [],
   "source": [
    "import pandas as pd\n",
    "df = pd.DataFrame({\"ID\": [1, 2, 3, 3, 5],\n",
    "                   \"국어\": [80, 90, 75, 75, 90],\n",
    "                   \"영어\": [85, 100, 70, 70, 95],\n",
    "                   \"수학\": [75, 95, 65, 65, 80]})\n",
    "df"
   ]
  },
  {
   "cell_type": "code",
   "execution_count": null,
   "id": "c5458142",
   "metadata": {},
   "outputs": [],
   "source": [
    "df[['국어', '영어']]"
   ]
  },
  {
   "cell_type": "code",
   "execution_count": null,
   "id": "59c149fe",
   "metadata": {},
   "outputs": [],
   "source": [
    "df[df['국어'] > 80]"
   ]
  },
  {
   "cell_type": "code",
   "execution_count": null,
   "id": "421f911b",
   "metadata": {},
   "outputs": [],
   "source": [
    "df['국어'] > 80"
   ]
  },
  {
   "cell_type": "code",
   "execution_count": null,
   "id": "4aa24e5f",
   "metadata": {},
   "outputs": [],
   "source": [
    "df.drop_duplicates()"
   ]
  },
  {
   "cell_type": "code",
   "execution_count": null,
   "id": "bbb38501",
   "metadata": {},
   "outputs": [],
   "source": [
    "df.drop_duplicates(subset='국어')"
   ]
  },
  {
   "cell_type": "code",
   "execution_count": null,
   "id": "a06d94ba",
   "metadata": {},
   "outputs": [],
   "source": [
    "df.head(2)"
   ]
  },
  {
   "cell_type": "code",
   "execution_count": null,
   "id": "6bd90368",
   "metadata": {},
   "outputs": [],
   "source": [
    "df.tail(2)"
   ]
  },
  {
   "cell_type": "code",
   "execution_count": null,
   "id": "4ceafbf8",
   "metadata": {},
   "outputs": [],
   "source": [
    "df.sample(2)"
   ]
  },
  {
   "cell_type": "code",
   "execution_count": null,
   "id": "638b4c86",
   "metadata": {},
   "outputs": [],
   "source": [
    "df.sample(frac=0.5)"
   ]
  },
  {
   "cell_type": "markdown",
   "id": "a532c332",
   "metadata": {},
   "source": [
    "# iloc[]와 loc[]\n",
    "1. iloc와 loc도 데이터를 행을 기준으로 추출할 때 사용하는 함수이다.\n",
    "2. 이 둘의 차이점은 iloc[]는 번호를 사용해서 데이터를 추출할 인덱스와 열을 지정하고\n",
    "3. loc[]는 열 이름을 지정한다.\n",
    "4. iloc[행 시작 번호:행 종료 번호, 열 시작 번호:열 종료 번호]\n"
   ]
  },
  {
   "cell_type": "code",
   "execution_count": null,
   "id": "12bd9a96",
   "metadata": {},
   "outputs": [],
   "source": [
    "df.iloc[0,2]"
   ]
  },
  {
   "cell_type": "code",
   "execution_count": null,
   "id": "031c8a8a",
   "metadata": {},
   "outputs": [],
   "source": [
    "df.iloc[1:3]"
   ]
  },
  {
   "cell_type": "code",
   "execution_count": null,
   "id": "c38e46cb",
   "metadata": {},
   "outputs": [],
   "source": [
    "df.iloc[:,:]"
   ]
  },
  {
   "cell_type": "code",
   "execution_count": null,
   "id": "362c2129",
   "metadata": {},
   "outputs": [],
   "source": [
    "df.iloc[1:4,:]"
   ]
  },
  {
   "cell_type": "code",
   "execution_count": null,
   "id": "b151a17a",
   "metadata": {},
   "outputs": [],
   "source": [
    "df.iloc[1:4,:0]"
   ]
  },
  {
   "cell_type": "code",
   "execution_count": null,
   "id": "70a991b0",
   "metadata": {},
   "outputs": [],
   "source": [
    "df.loc[:,['국어','영어']]"
   ]
  },
  {
   "cell_type": "code",
   "execution_count": null,
   "id": "35c4f85f",
   "metadata": {},
   "outputs": [],
   "source": [
    "df.loc[:0, ['국어','영어']]"
   ]
  },
  {
   "cell_type": "code",
   "execution_count": null,
   "id": "fc1cdf9c",
   "metadata": {},
   "outputs": [],
   "source": [
    "df.loc[df['국어']>=80, ['국어','수학']]"
   ]
  },
  {
   "cell_type": "markdown",
   "id": "18367c7b",
   "metadata": {},
   "source": [
    "# 논리 연산자\n",
    "1. python -> a and b // pandas -> a & b\n",
    "2. python -> a or b // pandas -> a | b\n",
    "3. python -> not a // pandas -> ~ a"
   ]
  },
  {
   "cell_type": "code",
   "execution_count": null,
   "id": "302bf1f1",
   "metadata": {},
   "outputs": [],
   "source": [
    "df[df['국어']==75]"
   ]
  },
  {
   "cell_type": "code",
   "execution_count": null,
   "id": "a6b2dc85",
   "metadata": {},
   "outputs": [],
   "source": [
    "df[df['국어']!=75]"
   ]
  },
  {
   "cell_type": "code",
   "execution_count": null,
   "id": "da95bc0a",
   "metadata": {},
   "outputs": [],
   "source": [
    "df[df['국어']>=80]"
   ]
  },
  {
   "cell_type": "code",
   "execution_count": null,
   "id": "57fd28d2",
   "metadata": {},
   "outputs": [],
   "source": [
    "df[(df['영어']>=80)&(df['국어']>=80)]\n"
   ]
  },
  {
   "cell_type": "code",
   "execution_count": null,
   "id": "a392b5d6",
   "metadata": {},
   "outputs": [],
   "source": [
    "df[(df['수학']>=70)|(df['국어']>=80)]"
   ]
  },
  {
   "cell_type": "code",
   "execution_count": null,
   "id": "d19399f1",
   "metadata": {},
   "outputs": [],
   "source": [
    "df[~(df['수학']>=70)]"
   ]
  },
  {
   "cell_type": "markdown",
   "id": "b3bcff63",
   "metadata": {},
   "source": [
    "# 데이터 요약\n",
    "* 요약된 데이터는 전체 데이터 특징을 간단하고 정확히 정리함.\n"
   ]
  },
  {
   "cell_type": "code",
   "execution_count": null,
   "id": "21cfa334",
   "metadata": {},
   "outputs": [],
   "source": [
    "import numpy as np\n",
    "import pandas as pd\n",
    "df = pd.DataFrame({\"ID\":[1, 2, 3, 4, 5],\n",
    "                   \"국어\":[80, 90, 75, 100, 80],\n",
    "                   \"영어\":[85, 100, 70, 70, 75],\n",
    "                   \"수학\":[75, 95, 65, 95, np.nan]})\n",
    "df"
   ]
  },
  {
   "cell_type": "code",
   "execution_count": null,
   "id": "fabe73b3",
   "metadata": {},
   "outputs": [],
   "source": [
    "df['영어'].value_counts()"
   ]
  },
  {
   "cell_type": "code",
   "execution_count": null,
   "id": "ddb2867a",
   "metadata": {},
   "outputs": [],
   "source": [
    "df.shape"
   ]
  },
  {
   "cell_type": "code",
   "execution_count": null,
   "id": "5f9fa943",
   "metadata": {},
   "outputs": [],
   "source": [
    "df['영어'].nunique()"
   ]
  },
  {
   "cell_type": "code",
   "execution_count": null,
   "id": "09ea842f",
   "metadata": {},
   "outputs": [],
   "source": [
    "df['영어'].unique()"
   ]
  },
  {
   "cell_type": "code",
   "execution_count": null,
   "id": "df566b9d",
   "metadata": {},
   "outputs": [],
   "source": [
    "df.describe()"
   ]
  },
  {
   "cell_type": "code",
   "execution_count": null,
   "id": "de1d417a",
   "metadata": {},
   "outputs": [],
   "source": [
    "df.sum()"
   ]
  },
  {
   "cell_type": "code",
   "execution_count": null,
   "id": "1362b07e",
   "metadata": {},
   "outputs": [],
   "source": [
    "df[['국어', '영어', '수학']].sum()"
   ]
  },
  {
   "cell_type": "code",
   "execution_count": null,
   "id": "79fbb635",
   "metadata": {},
   "outputs": [],
   "source": [
    "df[['국어', '영어', '수학']].median()"
   ]
  },
  {
   "cell_type": "code",
   "execution_count": null,
   "id": "f484f988",
   "metadata": {},
   "outputs": [],
   "source": [
    "df['수학'].std()"
   ]
  },
  {
   "cell_type": "markdown",
   "id": "c4f813a6",
   "metadata": {},
   "source": [
    "# 결측치 처리\n",
    "* dropna() 함수는 결측치를 삭제\n",
    "* fillna()는 결측치에 특정값을 채우는 함수"
   ]
  },
  {
   "cell_type": "code",
   "execution_count": null,
   "id": "755dd5d8",
   "metadata": {},
   "outputs": [],
   "source": [
    "df.fillna(9999)"
   ]
  },
  {
   "cell_type": "code",
   "execution_count": null,
   "id": "1e5362ae",
   "metadata": {},
   "outputs": [],
   "source": [
    "df.fillna(df['수학'].mean())"
   ]
  },
  {
   "cell_type": "markdown",
   "id": "56e33853",
   "metadata": {},
   "source": [
    "# 열 생성\n",
    "* "
   ]
  },
  {
   "cell_type": "code",
   "execution_count": null,
   "id": "746e2fe9",
   "metadata": {},
   "outputs": [],
   "source": [
    "df = pd.DataFrame({\"A\":range(1, 13), \"B\":np.random.randint(0, 12, size=12)})\n",
    "df.head()"
   ]
  },
  {
   "cell_type": "code",
   "execution_count": null,
   "id": "05e6b857",
   "metadata": {},
   "outputs": [],
   "source": [
    "df.assign(plus=lambda x:df['A'] + df['B'])"
   ]
  },
  {
   "cell_type": "code",
   "execution_count": null,
   "id": "0f7cb2d5",
   "metadata": {},
   "outputs": [],
   "source": [
    "df['plus_pu'] = df['A'] + df['B']"
   ]
  },
  {
   "cell_type": "code",
   "execution_count": null,
   "id": "83cb51bb",
   "metadata": {},
   "outputs": [],
   "source": [
    "df"
   ]
  },
  {
   "cell_type": "code",
   "execution_count": null,
   "id": "b190d76a",
   "metadata": {},
   "outputs": [],
   "source": [
    "df = pd.DataFrame({\"A\":range(1, 13), \"B\":np.random.randint(0, 12, size=12)})\n",
    "df['plus'] = df['A'] + df['B']\n",
    "\n",
    "pd.qcut(df['plus'], 3, labels={\"A\", \"B\", \"C\"})"
   ]
  },
  {
   "cell_type": "code",
   "execution_count": null,
   "id": "6626c639",
   "metadata": {},
   "outputs": [],
   "source": [
    "df['category'] = pd.qcut(df['plus'], 3, labels={\"A\", \"B\", \"C\"})\n",
    "df"
   ]
  },
  {
   "cell_type": "markdown",
   "id": "598046c2",
   "metadata": {},
   "source": [
    "# 데이터 그룹화\n",
    "* 데이터를 그룹화한다는 것은 데이터 프레임에서 필요한 기준에 따라 새롭게 데이터 프레임을 정렬하는 것\n",
    "* 큰 데이터를 가져오기 위해 시각화 라이브러리 seaborn을 가져온다.\n"
   ]
  },
  {
   "cell_type": "code",
   "execution_count": null,
   "id": "6d18e20a",
   "metadata": {},
   "outputs": [],
   "source": [
    "import seaborn as sns\n",
    "\n",
    "df = sns.load_dataset(\"mpg\")\n",
    "df.head(3)"
   ]
  },
  {
   "cell_type": "code",
   "execution_count": null,
   "id": "486975ad",
   "metadata": {},
   "outputs": [],
   "source": [
    "df.groupby(by=\"origin\").size()"
   ]
  },
  {
   "cell_type": "code",
   "execution_count": null,
   "id": "266f4ec7",
   "metadata": {},
   "outputs": [],
   "source": [
    "df.groupby(by=\"origin\").min()"
   ]
  },
  {
   "cell_type": "code",
   "execution_count": null,
   "id": "eac56b90",
   "metadata": {},
   "outputs": [],
   "source": [
    "df.groupby(by=\"origin\").mean(numeric_only=True)"
   ]
  },
  {
   "cell_type": "code",
   "execution_count": null,
   "id": "8100b238",
   "metadata": {},
   "outputs": [],
   "source": [
    "df.groupby(by=\"origin\")[[\"horsepower\", \"weight\"]].mean()"
   ]
  },
  {
   "cell_type": "markdown",
   "id": "5dce5d99",
   "metadata": {},
   "source": [
    "## 순위를 구할 때 사용하는 rank()\n"
   ]
  },
  {
   "cell_type": "code",
   "execution_count": null,
   "id": "a11b144b",
   "metadata": {},
   "outputs": [],
   "source": [
    "df = sns.load_dataset(\"mpg\")\n",
    "\n",
    "print(df['cylinders'].unique())\n",
    "display(df.head(3))\n",
    "display(df.tail(3))"
   ]
  },
  {
   "cell_type": "code",
   "execution_count": null,
   "id": "dace53ff",
   "metadata": {},
   "outputs": [],
   "source": [
    "df['cylinders'].rank(ascending=False,method='min')"
   ]
  },
  {
   "cell_type": "code",
   "execution_count": null,
   "id": "9bc8ddc1",
   "metadata": {},
   "outputs": [],
   "source": [
    "df['cylinders'].rank(method='dense')"
   ]
  },
  {
   "cell_type": "code",
   "execution_count": null,
   "id": "cb80fadd",
   "metadata": {},
   "outputs": [],
   "source": [
    "df['cylinders'].rank(ascending=False, method='dense')"
   ]
  },
  {
   "cell_type": "markdown",
   "id": "d8b7e15e",
   "metadata": {},
   "source": [
    "# 데이터 병합\n",
    "* concat() 함수는 데이터를 이어 준다면 merge() 함수는 서로를 자연스럽게 융합시켜 주는 형태\n"
   ]
  },
  {
   "cell_type": "code",
   "execution_count": null,
   "id": "cde323c9",
   "metadata": {},
   "outputs": [],
   "source": [
    "adf = pd.DataFrame({\"x1\": [\"A\", \"B\", \"C\"], \"x2\": [1, 2, 3]})\n",
    "bdf = pd.DataFrame({\"x1\": [\"A\", \"B\", \"D\"], \"x3\": [\"T\", \"F\", \"T\"]})\n",
    "\n",
    "display(adf)\n",
    "display(bdf)"
   ]
  },
  {
   "cell_type": "code",
   "execution_count": null,
   "id": "1ce96202",
   "metadata": {},
   "outputs": [],
   "source": [
    "pd.merge(adf, bdf, on='x1')"
   ]
  },
  {
   "cell_type": "code",
   "execution_count": null,
   "id": "e465312d",
   "metadata": {},
   "outputs": [],
   "source": [
    "pd.merge(adf, bdf, how='right', on='x1')"
   ]
  },
  {
   "cell_type": "code",
   "execution_count": null,
   "id": "53b009b0",
   "metadata": {},
   "outputs": [],
   "source": [
    "pd.merge(adf, bdf, how='left', on='x1')"
   ]
  },
  {
   "cell_type": "code",
   "execution_count": null,
   "id": "1f4d3cee",
   "metadata": {},
   "outputs": [],
   "source": [
    "pd.merge(adf, bdf, how='outer', on='x1')"
   ]
  },
  {
   "cell_type": "markdown",
   "id": "4d1eea83",
   "metadata": {},
   "source": [
    "# 경기도 인구 데이터 분석\n",
    "https://data.gg.go.kr/portal/data/service/selectServicePage.do?page=1&sortColumn=&sortDirection=&infId=HH7N68ZBMYNCB7QE9OY927342034&infSeq=1&searchWord=%EC%A3%BC%EB%AF%BC%EB%93%B1%EB%A1%9D%EC%9D%B8%EA%B5%AC+%EC%A7%91%EA%B3%84+%ED%98%84%ED%99%A9\n",
    "\n"
   ]
  },
  {
   "cell_type": "code",
   "execution_count": null,
   "id": "fb3aecd0",
   "metadata": {},
   "outputs": [],
   "source": [
    "import pandas as pd\n",
    "\n",
    "import matplotlib.pyplot as plt\n",
    "\n",
    "%matplotlib inline\n",
    "\n",
    "plt.rc('font', family='Malgun Gothic')\n",
    "plt.rcParams['axes.unicode_minus'] = False\n",
    "\n",
    "import IPython.display\n",
    "from matplotlib_inline.backend_inline import set_matplotlib_formats\n",
    "IPython.display.set_matplotlib_formats = set_matplotlib_formats('retina')"
   ]
  },
  {
   "cell_type": "code",
   "execution_count": null,
   "id": "575d14eb",
   "metadata": {},
   "outputs": [],
   "source": [
    "filepath = 'C:/Users/hisem/Desktop/DataAnalysisPython/1장/data/주민등록인구집계현황.csv'\n",
    "population = pd.read_csv(filepath, encoding='euc-kr')\n",
    "population.head(2)"
   ]
  },
  {
   "cell_type": "code",
   "execution_count": null,
   "id": "ce3d2fc2",
   "metadata": {},
   "outputs": [],
   "source": [
    "print(\"데이터 크기 :\", population.shape)"
   ]
  },
  {
   "cell_type": "code",
   "execution_count": null,
   "id": "a9272cc1",
   "metadata": {},
   "outputs": [],
   "source": [
    "population.isnull().sum()"
   ]
  },
  {
   "cell_type": "markdown",
   "id": "caf2378c",
   "metadata": {},
   "source": [
    "### 젊은 세대가 많이 사는 지역이 어디인지 정의\n",
    "* 40대 이하 여성이 많이 사는 지역을 젊은 세대가 많이 사는 지역으로 정의\n",
    "* 40대 이하 여성이 지역 맘카페에 가입하고, 학령기에 들어선 아이들의 학부모이기 때문\n",
    "\n",
    "10대와 40대가 함께 살고 있으므로 해당 지역은 전체적으로 젊은 지역으로 간주할 수 있음"
   ]
  },
  {
   "cell_type": "code",
   "execution_count": null,
   "id": "109b9290",
   "metadata": {},
   "outputs": [],
   "source": [
    "popula_female = population.iloc[:, -12:]\n",
    "\n",
    "popula_info = population.iloc[:, :4]\n",
    "\n",
    "pop_female_info = pd.concat([popula_info, popula_female], axis=1)"
   ]
  },
  {
   "cell_type": "code",
   "execution_count": null,
   "id": "6e984b2a",
   "metadata": {},
   "outputs": [],
   "source": [
    "pop_female_info['연도'].value_counts().sort_index()"
   ]
  },
  {
   "cell_type": "code",
   "execution_count": null,
   "id": "121e5904",
   "metadata": {},
   "outputs": [],
   "source": [
    "pop_female_info = pop_female_info[pop_female_info['연도'] != 2025]"
   ]
  },
  {
   "cell_type": "code",
   "execution_count": null,
   "id": "b6349a16",
   "metadata": {},
   "outputs": [],
   "source": [
    "pop_female_info.rename(columns={\"0~9세 (여)\": \"10대_미만\",\n",
    "                                \"10~19세 (여)\": \"10대\",\n",
    "                                \"20~29세 (여)\": \"20대\",\n",
    "                                \"30~39세 (여)\": \"30대\",\n",
    "                                \"40~49세 (여)\": \"40대\",\n",
    "                                \"50~59세 (여)\": \"50대\",\n",
    "                                \"60~69세 (여)\": \"60대\"\n",
    "                                }, inplace=True)"
   ]
  },
  {
   "cell_type": "code",
   "execution_count": null,
   "id": "f0641ec0",
   "metadata": {},
   "outputs": [],
   "source": [
    "pop_female_info['70대_이상'] = pop_female_info[\"70~79세 (여)\"] + \\\n",
    "                                pop_female_info[\"80~89세 (여)\"] + \\\n",
    "                                pop_female_info[\"90~99세 (여)\"] + \\\n",
    "                                pop_female_info[\"100세 이상 (여)\"]\n",
    "pop_female_info.info()"
   ]
  },
  {
   "cell_type": "code",
   "execution_count": null,
   "id": "5e2b14dc",
   "metadata": {},
   "outputs": [],
   "source": [
    "df_female = pop_female_info.drop(['70~79세 (여)', '80~89세 (여)', '90~99세 (여)', '100세 이상 (여)'], axis=1)\n",
    "df_female.head(2)"
   ]
  },
  {
   "cell_type": "markdown",
   "id": "d69aff25",
   "metadata": {},
   "source": [
    "행정구역 중에 면, 리는 시골 지역이기 때문에 당연히 40대 이하 인구가 많이 살고 있지 않음 \\\n",
    "행정구역구분면에 '동'을 포함한 행만 가져온다.\n",
    "\n"
   ]
  },
  {
   "cell_type": "code",
   "execution_count": null,
   "id": "fa8db92b",
   "metadata": {},
   "outputs": [],
   "source": [
    "df_female_dong = df_female[df_female['행정구역명'].str.contains('동')]\n",
    "df_female_dong.head()"
   ]
  },
  {
   "cell_type": "markdown",
   "id": "75293d55",
   "metadata": {},
   "source": [
    "__대 이하 여성들의 비율 = __대 이하 인구 합계 ÷ 해당 지역 전체 인구수 × 100\n"
   ]
  },
  {
   "cell_type": "code",
   "execution_count": null,
   "id": "2e996753",
   "metadata": {},
   "outputs": [],
   "source": [
    "under40s = df_female_dong['10대_미만'] + df_female_dong['10대'] + df_female_dong['20대'] + df_female_dong['30대'] + df_female_dong['40대']\n",
    "over50s = df_female_dong['50대'] + df_female_dong['60대'] + df_female_dong['70대_이상']\n",
    "\n",
    "under40_percent = round((under40s/df_female_dong['총 인구수 (여)']*100), 2)\n",
    "over50_percent = round((over50s/df_female_dong['총 인구수 (여)']*100), 2)\n",
    "\n",
    "df_female_dong['40대_이하_여성비율(%)'] = under40_percent\n",
    "df_female_dong['50대_이상_여성비율(%)'] = over50_percent\n",
    "\n",
    "df_female_dong[df_female_dong['연도']==2024]"
   ]
  },
  {
   "cell_type": "markdown",
   "id": "528f3829",
   "metadata": {},
   "source": [
    "행정구역명 -> 시와 동으로 분리 \\\n",
    "split() 함수 사용"
   ]
  },
  {
   "cell_type": "code",
   "execution_count": null,
   "id": "8632b192",
   "metadata": {},
   "outputs": [],
   "source": [
    "x = \"경기도 고양시 덕양구 고양동\"\n",
    "print(\"split() 적용 전:\", x)\n",
    "print(\"split() 적용 후\", x.split())\n",
    "print(\"동 추출 결과 :\", x.split()[-1])\n",
    "print(\"시 추출 결과 :\", x.split()[1])\n"
   ]
  },
  {
   "cell_type": "code",
   "execution_count": null,
   "id": "7c70162d",
   "metadata": {},
   "outputs": [],
   "source": [
    "df_female_dong['동'] = df_female_dong['행정구역명'].apply(lambda x:x.split()[-1])\n",
    "df_female_dong['시'] = df_female_dong['행정구역명'].apply(lambda x:x.split()[1])"
   ]
  },
  {
   "cell_type": "code",
   "execution_count": null,
   "id": "6a887f37",
   "metadata": {},
   "outputs": [],
   "source": [
    "df_female_dong.sample()"
   ]
  },
  {
   "cell_type": "markdown",
   "id": "d56a85b9",
   "metadata": {},
   "source": [
    "시와 동 정보는 하나로 다시 합쳐서 열 추가 \\\n",
    "경기도에 시는 다르지만 동 이름이 같은 경우가 있기 때문"
   ]
  },
  {
   "cell_type": "code",
   "execution_count": null,
   "id": "2334f5f4",
   "metadata": {},
   "outputs": [],
   "source": [
    "df_female_dong['시-동'] = df_female_dong['시'] + \" \" + df_female_dong['동']\n",
    "df_result = df_female_dong[['연도', '시', '동', '시-동', '총 인구수 (여)', '40대_이하_여성비율(%)', '50대_이상_여성비율(%)']]\n",
    "df_result.isnull().sum()"
   ]
  },
  {
   "cell_type": "markdown",
   "id": "300477f2",
   "metadata": {},
   "source": [
    "데이터 프레임 전체에 연산을 적용하거나 필요한 데이터를 추출할 때마다 결측치를 확인해야 합니다."
   ]
  },
  {
   "cell_type": "code",
   "execution_count": null,
   "id": "6bc516c7",
   "metadata": {},
   "outputs": [],
   "source": [
    "df_result[df_result['40대_이하_여성비율(%)'].isnull()]"
   ]
  },
  {
   "cell_type": "code",
   "execution_count": null,
   "id": "0bff671a",
   "metadata": {},
   "outputs": [],
   "source": [
    "df_result.dropna(inplace=True)\n",
    "df_result = df_result[df_result['연도']>2015]\n",
    "df_result.sample(3)"
   ]
  },
  {
   "cell_type": "code",
   "execution_count": null,
   "id": "3563c6df",
   "metadata": {},
   "outputs": [],
   "source": [
    "df_resent_group = df_result.groupby(['시-동'])[['40대_이하_여성비율(%)', \"50대_이상_여성비율(%)\"]].mean()\n",
    "df_resent_group.reset_index(inplace=True)\n",
    "df_resent_group.sort_values(by='40대_이하_여성비율(%)', ascending=False)[:20]"
   ]
  },
  {
   "cell_type": "code",
   "execution_count": null,
   "id": "4ad555ba",
   "metadata": {},
   "outputs": [],
   "source": [
    "df_top20 = df_resent_group.sort_values(by='40대_이하_여성비율(%)', ascending=False)[:20]\n",
    "x = df_top20['시-동']\n",
    "y = df_top20['40대_이하_여성비율(%)']\n",
    "\n",
    "plt.figure(figsize=(10, 5))\n",
    "plt.title(\"2016 ~ 2021년, 40대 이하 여성이 \\n가장 많이 사는 지역 상위 20개 동\", fontsize=15)\n",
    "plt.bar(x, y, alpha=0.7, color='darkgreen')\n",
    "\n",
    "plt.xticks(size=12, rotation=45)\n",
    "plt.yticks(size=12)\n",
    "plt.ylabel(\"%\", size=15)\n",
    "plt.ylim(70, 90)\n",
    "\n",
    "plt.grid(True, alpha=0.2)"
   ]
  },
  {
   "cell_type": "markdown",
   "id": "93eb4f4f",
   "metadata": {},
   "source": [
    "# 국민건강보험공단 진료 내역 정보 전처리\n",
    "* 직접 함수를 만들고 데이터를 합치거나 병합하는 과정이 핵심\n"
   ]
  },
  {
   "cell_type": "code",
   "execution_count": null,
   "id": "08101b53",
   "metadata": {},
   "outputs": [],
   "source": [
    "import pandas as pd\n",
    "import matplotlib.pyplot as plt\n",
    "\n",
    "plt.rc('font', family='Malgun Gothic')\n",
    "import IPython.display\n",
    "from matplotlib_inline.backend_inline import set_matplotlib_formats\n",
    "IPython.display.set_matplotlib_formats = set_matplotlib_formats('retina')\n",
    "\n",
    "doctor_data = pd.read_csv('C:/Users/hisem/Desktop/DataAnalysisPython/1장/data/ph_2023.CSV', encoding='cp949')\n",
    "doctor_data.head(2)"
   ]
  },
  {
   "cell_type": "markdown",
   "id": "e1ed58a8",
   "metadata": {},
   "source": [
    "## 데이터 연결 및 필요한 열만 추출\n",
    "* 진료과목코드, 주상병코드, 성별코드, 연령대코드를 파악해서 여성들을 나이별로 분류하고 어떤 진료를 자주 받고 어떤 병을 앓고 있는지 파악\n",
    "* 처방 일수나 보험금 정보는 필요하지 않음"
   ]
  },
  {
   "cell_type": "code",
   "execution_count": null,
   "id": "9365bddd",
   "metadata": {},
   "outputs": [],
   "source": [
    "target_cols = ['성별코드', '연령대코드', '진료과목코드', '주상병코드', '부상병코드']\n",
    "\n",
    "doctor_data_short = doctor_data[target_cols]\n",
    "\n",
    "print(\"2023년 진료행위 총 :\", doctor_data_short.shape[0], \"회\")\n",
    "doctor_data_short.head(2)"
   ]
  },
  {
   "cell_type": "markdown",
   "id": "1888b032",
   "metadata": {},
   "source": [
    "## 다른 데이터와 데이터 합치기 1\n",
    "* 진료과목코드에 1로 저장되어 있으면 무슨 진료과목인지 알 수 없음.\n",
    "* 코드 대신 정의로 대체하는 작업 \\\n",
    "url : https://opendata.hira.or.kr/op/opc/selectColumnCodeList.do?tblId=&pageIndex=8\n"
   ]
  },
  {
   "cell_type": "code",
   "execution_count": null,
   "id": "04f1ab3f",
   "metadata": {},
   "outputs": [],
   "source": [
    "treat_code = pd.read_excel('C:/Users/hisem/Desktop/DataAnalysisPython/1장/data/컬럼정보_코드.xls')\n",
    "treat_code = treat_code[treat_code['코드구분']=='진료과목코드']\n",
    "treat_code.dropna(inplace=True)\n",
    "\n",
    "treat_code.head(2)"
   ]
  },
  {
   "cell_type": "code",
   "execution_count": null,
   "id": "c204ee08",
   "metadata": {},
   "outputs": [],
   "source": [
    "treat_code = treat_code[['코드','명칭']]\n",
    "treat_code.rename(columns={'코드':'진료과목코드_str', '명칭':'진료과목'}, inplace=True)\n",
    "\n",
    "treat_code.head(3)\n"
   ]
  },
  {
   "cell_type": "code",
   "execution_count": null,
   "id": "5c73c33d",
   "metadata": {},
   "outputs": [],
   "source": [
    "# zfill() 함수 실습\n",
    "code = '1'\n",
    "print(\"zfill()에 2로 지정하면\", code.zfill(2))\n",
    "print(\"zfill()에 3으로 지정하면\", code.zfill(3))"
   ]
  },
  {
   "cell_type": "code",
   "execution_count": null,
   "id": "1d8cb47e",
   "metadata": {},
   "outputs": [],
   "source": [
    "treat_code['진료과목코드_str'] = treat_code['진료과목코드_str'].apply(lambda x:str(x).zfill(2))\n",
    "treat_code.head(3)"
   ]
  },
  {
   "cell_type": "code",
   "execution_count": null,
   "id": "461730f2",
   "metadata": {},
   "outputs": [],
   "source": [
    "doctor_data_short['진료과목코드_str'] = doctor_data_short['진료과목코드'].apply(lambda x:str(x).zfill(2))\n",
    "doctor_data_short.reset_index(drop=True, inplace=True)\n",
    "doctor_data_short.head(1)"
   ]
  },
  {
   "cell_type": "code",
   "execution_count": null,
   "id": "e2a6f68f",
   "metadata": {},
   "outputs": [],
   "source": [
    "doctor_data_short = pd.merge(doctor_data_short, treat_code, how='left', on='진료과목코드_str')\n",
    "doctor_data_short.head(2)"
   ]
  },
  {
   "cell_type": "code",
   "execution_count": null,
   "id": "66659181",
   "metadata": {},
   "outputs": [],
   "source": [
    "print('2023년 진료과목별 진료횟수 Top20')\n",
    "doctor_data_short['진료과목'].value_counts()[:20]"
   ]
  },
  {
   "cell_type": "code",
   "execution_count": null,
   "id": "40d60998",
   "metadata": {},
   "outputs": [],
   "source": [
    "x_hospitals = list(doctor_data_short['진료과목'].value_counts().index)\n",
    "y_hos_values = doctor_data_short['진료과목'].value_counts().values\n",
    "plt.figure(figsize=(6,10))\n",
    "plt.barh(x_hospitals, y_hos_values)"
   ]
  },
  {
   "cell_type": "markdown",
   "id": "b407107c",
   "metadata": {},
   "source": [
    "## 다른 데이터와 데이터 합치기 2\n",
    "* 상병코드 의미"
   ]
  },
  {
   "cell_type": "code",
   "execution_count": null,
   "id": "f8d694dd",
   "metadata": {},
   "outputs": [],
   "source": [
    "#데이터가 저장된 경로로 입력\n",
    "disease_code = pd.read_csv('C:/Users/hisem/Desktop/DataAnalysisPython/1장/data/건강보험심사평가원_상병마스터_20240131.csv', encoding='cp949')\n",
    "disease_code.head(2)"
   ]
  },
  {
   "cell_type": "code",
   "execution_count": null,
   "id": "945293e4",
   "metadata": {},
   "outputs": [],
   "source": [
    "disease_code = disease_code.iloc[:, :2]\n",
    "disease_code.rename(columns={\"상병기호\":\"주상병코드\"}, inplace=True)\n",
    "disease_code.head(2)"
   ]
  },
  {
   "cell_type": "code",
   "execution_count": null,
   "id": "9f80fecf",
   "metadata": {},
   "outputs": [],
   "source": [
    "doctor_data_short = pd.merge(doctor_data_short, disease_code, on='주상병코드', how='left')\n",
    "doctor_data_short.head(2)"
   ]
  },
  {
   "cell_type": "markdown",
   "id": "0e0692a2",
   "metadata": {},
   "source": [
    "## 함수를 사용한 데이터 처리\n",
    "* 성별코드와 연령대코드\n",
    "* 성별코드에서 남자는 1 여자는 0\n",
    "* 연령대코드는 숫자가 1~17 이상으로 증가\n"
   ]
  },
  {
   "cell_type": "code",
   "execution_count": null,
   "id": "43c8b893",
   "metadata": {},
   "outputs": [],
   "source": [
    "def findSex(num):\n",
    "    \"\"\"성별코드를 해석하는 함수\"\"\"\n",
    "    if num == 1:\n",
    "        return '남'\n",
    "    else:\n",
    "        return '여'\n",
    "    \n",
    "def ageCode(num):\n",
    "    \"\"\"연령대 분류하는 함수\"\"\"\n",
    "    if (num==1) or (num==2):\n",
    "        return \"9세미만\"\n",
    "    elif (num==3) or (num==4):\n",
    "        return \"10대\"\n",
    "    elif (num==5) or (num==6):\n",
    "        return \"20대\"\n",
    "    elif (num==7) or (num==8):\n",
    "        return \"30대\"\n",
    "    elif (num==9) or (num==10):\n",
    "        return \"40대\"\n",
    "    elif (num==11) or (num==12):\n",
    "        return \"50대\"\n",
    "    elif (num==13) or (num==14):\n",
    "        return \"60대\"\n",
    "    elif (num==15) or (num==16):\n",
    "        return \"70대\"\n",
    "    elif (num==17) or (num==18):\n",
    "        return \"80대\"\n",
    "    else:\n",
    "        return \"80대이상\""
   ]
  },
  {
   "cell_type": "code",
   "execution_count": null,
   "id": "e828ca54",
   "metadata": {},
   "outputs": [],
   "source": [
    "doctor_data_short['성별'] = doctor_data_short['성별코드'].apply(lambda x:findSex(num=x))\n",
    "doctor_data_short['연령대'] = doctor_data_short['연령대코드'].apply(lambda x:ageCode(num=x))\n",
    "doctor_data_short.head(3)"
   ]
  },
  {
   "cell_type": "code",
   "execution_count": null,
   "id": "0d2beab0",
   "metadata": {},
   "outputs": [],
   "source": [
    "doctor_data_short.to_csv('C:/Users/hisem/Desktop/DataAnalysisPython/1장/data/2023_진료정보.csv', index=False)"
   ]
  },
  {
   "cell_type": "code",
   "execution_count": null,
   "id": "a8f1a06d",
   "metadata": {},
   "outputs": [],
   "source": []
  }
 ],
 "metadata": {
  "kernelspec": {
   "display_name": ".venv",
   "language": "python",
   "name": "python3"
  },
  "language_info": {
   "codemirror_mode": {
    "name": "ipython",
    "version": 3
   },
   "file_extension": ".py",
   "mimetype": "text/x-python",
   "name": "python",
   "nbconvert_exporter": "python",
   "pygments_lexer": "ipython3",
   "version": "3.11.2"
  }
 },
 "nbformat": 4,
 "nbformat_minor": 5
}
